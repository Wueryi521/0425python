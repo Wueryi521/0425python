{
  "nbformat": 4,
  "nbformat_minor": 0,
  "metadata": {
    "colab": {
      "name": "2_資料型態(data Type)及其運算.ipynb",
      "provenance": [],
      "authorship_tag": "ABX9TyPpDj4mfvDQtL7BfTz1w7ld",
      "include_colab_link": true
    },
    "kernelspec": {
      "name": "python3",
      "display_name": "Python 3"
    },
    "language_info": {
      "name": "python"
    }
  },
  "cells": [
    {
      "cell_type": "markdown",
      "metadata": {
        "id": "view-in-github",
        "colab_type": "text"
      },
      "source": [
        "<a href=\"https://colab.research.google.com/github/Wueryi521/0425python/blob/main/2_%E8%B3%87%E6%96%99%E5%9E%8B%E6%85%8B(data_Type)%E5%8F%8A%E5%85%B6%E9%81%8B%E7%AE%97.ipynb\" target=\"_parent\"><img src=\"https://colab.research.google.com/assets/colab-badge.svg\" alt=\"Open In Colab\"/></a>"
      ]
    },
    {
      "cell_type": "markdown",
      "metadata": {
        "id": "2PhqtCy6NHN9"
      },
      "source": [
        "# 資料型態(data Type)及其運算\n",
        "```\n",
        "Python有眾多資料型態(data Type)及其各種運算\n",
        "    >* 數值(Numeric)資料及其運算\n",
        "    >* 字串(string)及其運算\n",
        "    >* 列表(list)資料及其運算\n",
        "    >* 字典(dict)資料及其運算  \n",
        "    >*[自我練習]tuple資料及其運算  \n",
        "    >*[自我練習]set資料及其運算\n",
        "    \n",
        " 本課程規劃讓同學快速掌握python程式的開發技術\n",
        " 還有更多技術及細節 請務必閱讀更多教材深入學習\n",
        " \n",
        " 資料型態(Data Type)學習重點:\n",
        "   各種運算\n",
        "   各種內建函數\n",
        "```"
      ]
    },
    {
      "cell_type": "markdown",
      "metadata": {
        "id": "psJP-_wtNWlM"
      },
      "source": [
        "# 1_數值(Numeric)資料及其運算\n",
        "```\n",
        "[1]Python支援的數值型資料型別(Numerics Data Type)\n",
        "[2]基本的運算  <==請參閱書籍\n",
        "算術運算子Arithmetic operators\n",
        "比較（關係）運算子Comparison operators\n",
        "賦值運算子Assignment operators\n",
        "邏輯運算符Logical operators\n",
        "位元運算子Bitwise operators\n",
        "成員運算子Identity operators\n",
        "身份運算子Membership operators\n",
        "\n",
        "運算子優先順序\n",
        "\n",
        "[3]內建的各種數學函數(Built-in functions)\n",
        "```\n",
        "```\n",
        "Python 支持三種不同的數值型別(Data Type)：\n",
        "\n",
        "[1]Int 整數，是可以是正或負整數，不帶小數點。\n",
        "   Python3  int是沒有限制大小的，可以當作 Long 類型使用，所以 Python3 沒有 Python2 的 Long 類型。\n",
        "[2]浮點數(float) :由整數部分與小數部分組成，浮點型也可以使用科學計數法表示（2.5e2 = 2.5 x 10 0 = 250）\n",
        "[3]複數( (complex)) - 複數由實數部分和虛數部分構成，可以用a + bj,或者complex(a,b)表示， \n",
        "                     複數的實部a和虛部b都是浮點型。\n",
        "```"
      ]
    },
    {
      "cell_type": "markdown",
      "metadata": {
        "id": "zSpGv_2QOBSX"
      },
      "source": [
        "## [2]基本的運算\n",
        "```\n",
        "請參閱底下網址完成數值(Numeric)資料的各種運算\n",
        "https://www.w3schools.com/python/python_operators.asp\n",
        "```"
      ]
    },
    {
      "cell_type": "markdown",
      "metadata": {
        "id": "wuGBXhjNOFs9"
      },
      "source": [
        "### [實作練習]底下程式執行後結果為何?"
      ]
    },
    {
      "cell_type": "code",
      "metadata": {
        "id": "FuAf2fyDOI_M"
      },
      "source": [
        "a = 17 / 3\n",
        "b = 17 // 3\n",
        "c = 17 % 3\n",
        "\n",
        "a,b,c"
      ],
      "execution_count": null,
      "outputs": []
    },
    {
      "cell_type": "markdown",
      "metadata": {
        "id": "mOdTykJxOLlv"
      },
      "source": [
        "### 邏輯運算 Logical Operators\n",
        "### 範例:底下輸出為何? and why?"
      ]
    },
    {
      "cell_type": "code",
      "metadata": {
        "id": "SrnpTEGMONRk"
      },
      "source": [
        "x = 5\n",
        "print(x > 3 and x < 10)"
      ],
      "execution_count": null,
      "outputs": []
    },
    {
      "cell_type": "markdown",
      "metadata": {
        "id": "Pqym6LmoOO6N"
      },
      "source": [
        "### 範例:底下輸出為何? and why?"
      ]
    },
    {
      "cell_type": "code",
      "metadata": {
        "id": "aqg9JPwsOQ2k"
      },
      "source": [
        "x = 5\n",
        "print(x > 3 or x < 4)"
      ],
      "execution_count": null,
      "outputs": []
    },
    {
      "cell_type": "markdown",
      "metadata": {
        "id": "8vJQy6RSOWdc"
      },
      "source": [
        "### 範例:底下輸出為何? and why?"
      ]
    },
    {
      "cell_type": "code",
      "metadata": {
        "id": "4pisXFIlOXdc"
      },
      "source": [
        "x = 5\n",
        "print(not(x > 3 and x < 10))"
      ],
      "execution_count": null,
      "outputs": []
    },
    {
      "cell_type": "markdown",
      "metadata": {
        "id": "u32PvT9iOYx0"
      },
      "source": [
        "### 作業:Bitwise Operators[不要教,會花很多時間]"
      ]
    },
    {
      "cell_type": "code",
      "metadata": {
        "id": "tUs8KRYzOaad"
      },
      "source": [
        "#!/usr/bin/python3\n",
        " \n",
        "a = 60            # 60 = 0011 1100 \n",
        "b = 13            # 13 = 0000 1101 \n",
        "c = 0\n",
        "\n",
        "print (\"0 - a =  60 = 0011 1100(二進位) \")\n",
        "print (\"0 - b =  13 = 0000 1101(二進位) \")\n",
        "c = a & b;        # 12 = 0000 1100\n",
        "print (\"1 - c = a & b的值為：\", c)\n",
        " \n",
        "c = a | b;        # 61 = 0011 1101 \n",
        "print (\"2 - c = a | b的值為：\", c)\n",
        " \n",
        "c = a ^ b;        # 49 = 0011 0001\n",
        "print (\"3 - c= a ^ b 的值為：\", c)\n",
        " \n",
        "c = ~a;           # -61 = 1100 0011\n",
        "print (\"4 - c = ~a的值為：\", c)\n",
        " \n",
        "c = a << 2;       # 240 = 1111 0000\n",
        "print (\"5 - c = a << 2的值為：\", c)\n",
        " \n",
        "c = a >> 2;       # 15 = 0000 1111\n",
        "print (\"6 - c = a >> 2的值為：\", c)"
      ],
      "execution_count": null,
      "outputs": []
    },
    {
      "cell_type": "markdown",
      "metadata": {
        "id": "_cvRHesjOeNM"
      },
      "source": [
        "### [3]內建函式: round()函數的測試"
      ]
    },
    {
      "cell_type": "code",
      "metadata": {
        "id": "IYH0IeA0OfuU"
      },
      "source": [
        "#Round a number to only two decimals:\n",
        "x = round(5.76543, 2)\n",
        "print(x)\n",
        "\n",
        "# Round to the nearest integer:\n",
        "y = round(5.76543)\n",
        "print(y)"
      ],
      "execution_count": null,
      "outputs": []
    },
    {
      "cell_type": "markdown",
      "metadata": {
        "id": "9O-QI8t6Ope7"
      },
      "source": [
        "作業:參考底網址完成十種函數的自我測試報告\n",
        "https://www.w3schools.com/python/python_ref_functions.asp"
      ]
    },
    {
      "cell_type": "markdown",
      "metadata": {
        "id": "zn2YIh86OseT"
      },
      "source": [
        "### [4]Python 型態轉換\n",
        "```\n",
        "資料類型的轉換只需要將資料類型作為函數名即可。\n",
        "int(x) 將x轉換為一個整數。\n",
        "float(x) 將x轉換到一個浮點數。\n",
        "complex(x) 將x轉換到一個複數，實數部分為 x，虛數部分為 0。\n",
        "complex(x, y) 將 x 和 y 轉換到一個複數，實數部分為 x，虛數部分為 y。x 和 y 是數字運算式。\n",
        "```"
      ]
    },
    {
      "cell_type": "markdown",
      "metadata": {
        "id": "_2WEMkrqOwAx"
      },
      "source": [
        "### 範例:"
      ]
    },
    {
      "cell_type": "code",
      "metadata": {
        "id": "9b2uJumePKb7"
      },
      "source": [
        "a = 1.0004\n",
        "int(a)\n",
        "\n",
        "b = 0.9999\n",
        "int(a)"
      ],
      "execution_count": null,
      "outputs": []
    },
    {
      "cell_type": "markdown",
      "metadata": {
        "id": "zt9CUvDLPMep"
      },
      "source": [
        "### 作業:picoCTF 2017 : compute-rsa-50\n",
        "```\n",
        "RSA encryption/decryption is based on a formula that anyone can find and use, \n",
        "as long as they know the values to plug in. \n",
        "\n",
        "Given the encrypted number 150815, d = 1941, and N = 435979, \n",
        "what is the decrypted number?\n",
        "\n",
        "HINTS\n",
        "decrypted = (encrypted) ^ d mod N\n",
        "```"
      ]
    },
    {
      "cell_type": "code",
      "metadata": {
        "id": "zL0wT92Ov2kD"
      },
      "source": [
        "str1 = '這是字串'\n",
        "str2 = \"這也是字串\"\n",
        "str3 = 'allows embedded \"double\" quotes'"
      ],
      "execution_count": null,
      "outputs": []
    },
    {
      "cell_type": "code",
      "metadata": {
        "id": "vXLAScoPv5Uk"
      },
      "source": [
        "var1 = 'Hello Python!'\n",
        "\n",
        "print(\"var1[0]: \", var1[0])\n",
        "print(\"var1[1:8]: \", var1[1:8]) # Slicing 切片運算"
      ],
      "execution_count": null,
      "outputs": []
    },
    {
      "cell_type": "code",
      "metadata": {
        "id": "kQQZuCMTv6VG"
      },
      "source": [
        "b = \"Hello, World!\"\n",
        "print(b[2:5])\n",
        "print(b[:5])\n",
        "print(b[2:])\n",
        "print(b[-5:-2]) # Negative Indexing\n",
        "# 參考資料 https://www.w3schools.com/python/python_strings_slicing.asp"
      ],
      "execution_count": null,
      "outputs": []
    },
    {
      "cell_type": "code",
      "metadata": {
        "id": "EnufTSQHv70X"
      },
      "source": [
        "str1='happy python day'\n",
        "str2='    Oh!   '\n",
        "\n",
        "str4=str1 + str2   # 字串串接String Concatenation運算\n",
        "\n",
        "print(str4.capitalize())\n",
        "\n",
        "mystr = 'python'\n",
        "str4.find(pyth, beg=0, end=len(str4))"
      ],
      "execution_count": null,
      "outputs": []
    },
    {
      "cell_type": "code",
      "metadata": {
        "id": "43bIPZjtv9r9"
      },
      "source": [
        "list1 = [21, 33, 14, 12, 32, 98]\n",
        "\n",
        "list1[1]\n",
        "list1[-2]\n",
        "list1[1:3]  # 切片運算"
      ],
      "execution_count": null,
      "outputs": []
    },
    {
      "cell_type": "code",
      "metadata": {
        "id": "yHAZCUdUv-uy"
      },
      "source": [
        "list1 = [21, 33, 14, 12, 32, 98]\n",
        "\n",
        "len(list1)\n",
        "max(list1)\n",
        "min(list1)\n",
        "sum(list1)"
      ],
      "execution_count": null,
      "outputs": []
    },
    {
      "cell_type": "code",
      "metadata": {
        "id": "PCbb1eF2v_64"
      },
      "source": [
        "a = dict(one=1, two=2, three=3)\n",
        "b = {'one': 1, 'two': 2, 'three': 3}\n",
        "c = dict(zip(['one', 'two', 'three'], [1, 2, 3]))\n",
        "d = dict([('two', 2), ('one', 1), ('three', 3)])\n",
        "e = dict({'three': 3, 'one': 1, 'two': 2})\n",
        "f = dict({'one': 1, 'three': 3}, two=2)\n",
        "a == b == c == d == e == f"
      ],
      "execution_count": null,
      "outputs": []
    },
    {
      "cell_type": "code",
      "metadata": {
        "id": "anA3_PqzwBCS"
      },
      "source": [
        "dict = {'Name': 'DaDaLong', 'Age': 17, 'Class': 'First'}\n",
        "\n",
        "print(\"dict['Name']: \", dict['Name'])\n",
        "print(\"dict['Age']: \", dict['Age'])"
      ],
      "execution_count": null,
      "outputs": []
    },
    {
      "cell_type": "code",
      "metadata": {
        "id": "WTXQp8jGwB-E"
      },
      "source": [
        "dict = {'Name': 'DaDaLong', 'Age': 17, 'Class': 'First'}\n",
        "dict.items()"
      ],
      "execution_count": null,
      "outputs": []
    },
    {
      "cell_type": "code",
      "metadata": {
        "id": "Ni16VU8YwCux"
      },
      "source": [
        "dict = {'Name': 'DaDaLong', 'Age': 17, 'Class': 'First'}\n",
        "list(dict.items())\n",
        "dict = {'Name': 'DaDaLong', 'Age': 17, 'Class': 'First'}\n",
        "list(dict.keys())"
      ],
      "execution_count": null,
      "outputs": []
    },
    {
      "cell_type": "code",
      "metadata": {
        "id": "WQw3Fh2rwEmq"
      },
      "source": [
        "# key 是數字 value是小寫英文字母 97-->a  ... 122-->z\n",
        "ascii_a2z = {num: chr(num) for num in range(97,123)}\n",
        "ascii_a2z"
      ],
      "execution_count": null,
      "outputs": []
    },
    {
      "cell_type": "code",
      "metadata": {
        "id": "EAyw3RIdwFes"
      },
      "source": [
        "# key 是小寫英文字母   value是 數字 a-->97  ... z-->122\n",
        "alphas= []\n",
        "for num in range(97,123):\n",
        "    alpha = chr(num)\n",
        "    alphas.append(alpha)\n",
        "  \n",
        "ascii_a2z = {alpha: ord(alpha) for alpha in alphas}\n",
        "ascii_a2z"
      ],
      "execution_count": null,
      "outputs": []
    }
  ]
}