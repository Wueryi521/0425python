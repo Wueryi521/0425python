{
  "nbformat": 4,
  "nbformat_minor": 0,
  "metadata": {
    "colab": {
      "name": "6_初階模組化程式設計.ipynb",
      "provenance": [],
      "authorship_tag": "ABX9TyMH7D61ffhP6+1IcUiDTx4L",
      "include_colab_link": true
    },
    "kernelspec": {
      "name": "python3",
      "display_name": "Python 3"
    },
    "language_info": {
      "name": "python"
    }
  },
  "cells": [
    {
      "cell_type": "markdown",
      "metadata": {
        "id": "view-in-github",
        "colab_type": "text"
      },
      "source": [
        "<a href=\"https://colab.research.google.com/github/Wueryi521/0425python/blob/main/6_%E5%88%9D%E9%9A%8E%E6%A8%A1%E7%B5%84%E5%8C%96%E7%A8%8B%E5%BC%8F%E8%A8%AD%E8%A8%88.ipynb\" target=\"_parent\"><img src=\"https://colab.research.google.com/assets/colab-badge.svg\" alt=\"Open In Colab\"/></a>"
      ]
    },
    {
      "cell_type": "code",
      "metadata": {
        "id": "h1HSijX5jeEi"
      },
      "source": [
        "def print_func( par ):\n",
        "   print(\"Hello : \", par)\n",
        "   return"
      ],
      "execution_count": null,
      "outputs": []
    },
    {
      "cell_type": "code",
      "metadata": {
        "id": "oSaGW6vApcUK"
      },
      "source": [
        "#!/usr/bin/python\n",
        "# -*- coding: UTF-8 -*-\n",
        " \n",
        "# 導|載入模組\n",
        "import support\n",
        " \n",
        "# 現在可以呼叫模組裡包含的函數了\n",
        "support.print_func(\"MyFriends\")"
      ],
      "execution_count": null,
      "outputs": []
    },
    {
      "cell_type": "code",
      "metadata": {
        "id": "oWtGUqxvpdJ_"
      },
      "source": [
        "def Nice_to_meet_you( par ):\n",
        "   print(\"Hello : \", par,\" ! Nice to meet you! \")\n",
        "   return"
      ],
      "execution_count": null,
      "outputs": []
    },
    {
      "cell_type": "code",
      "metadata": {
        "id": "xCnnbigEpeD5"
      },
      "source": [
        "#!/usr/bin/python\n",
        "# -*- coding: UTF-8 -*-\n",
        " \n",
        "# 導|載入模組\n",
        "import my_module.Nice_to_meet_you as haha2\n",
        " \n",
        "# 現在可以調用模組裡包含的函數了\n",
        "haha2.Nice_to_meet_you(\"MyFriends\")"
      ],
      "execution_count": null,
      "outputs": []
    },
    {
      "cell_type": "code",
      "metadata": {
        "id": "mOy67xDPpe3f"
      },
      "source": [
        "#!/usr/bin/python\n",
        "# -*- coding: UTF-8 -*-\n",
        " \n",
        "# 導|載入模組\n",
        "import my_module.support as haha\n",
        " \n",
        "# 現在可以調用模組裡包含的函數了\n",
        "haha.print_func(\"MyFriends\")"
      ],
      "execution_count": null,
      "outputs": []
    }
  ]
}