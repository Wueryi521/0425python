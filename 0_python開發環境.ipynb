{
  "nbformat": 4,
  "nbformat_minor": 0,
  "metadata": {
    "colab": {
      "name": "0_python開發環境.ipynb",
      "provenance": [],
      "authorship_tag": "ABX9TyN+yHudAV+d9kUj3rESqgrc",
      "include_colab_link": true
    },
    "kernelspec": {
      "name": "python3",
      "display_name": "Python 3"
    },
    "language_info": {
      "name": "python"
    }
  },
  "cells": [
    {
      "cell_type": "markdown",
      "metadata": {
        "id": "view-in-github",
        "colab_type": "text"
      },
      "source": [
        "<a href=\"https://colab.research.google.com/github/Wueryi521/0425python/blob/main/0_python%E9%96%8B%E7%99%BC%E7%92%B0%E5%A2%83.ipynb\" target=\"_parent\"><img src=\"https://colab.research.google.com/assets/colab-badge.svg\" alt=\"Open In Colab\"/></a>"
      ]
    },
    {
      "cell_type": "code",
      "metadata": {
        "id": "ty87NO6stPgE"
      },
      "source": [
        "# 先不用解釋程式 後面會教\n",
        "i = 1\n",
        "\n",
        "while i < 6:\n",
        "  print(i)\n",
        "  i += 1"
      ],
      "execution_count": null,
      "outputs": []
    },
    {
      "cell_type": "code",
      "metadata": {
        "colab": {
          "base_uri": "https://localhost:8080/"
        },
        "id": "nJk2g7-X1FGB",
        "outputId": "73a514e6-695a-4c10-addc-da6553c41d67"
      },
      "source": [
        "import pandas as pd\n",
        "print(\"pandas version: %s\" % pd.__version__)\n",
        " \n",
        "import matplotlib\n",
        "print(\"matplotlib version: %s\" % matplotlib.__version__)\n",
        " \n",
        "import numpy as np\n",
        "print(\"numpy version: %s\" % np.__version__)\n",
        " \n",
        "import sklearn\n",
        "print(\"scikit-learn version: %s\" % sklearn.__version__)\n",
        " \n",
        "import tensorflow as tf\n",
        "print(\"tensorflow version: %s\" % tf.__version__)\n",
        " \n",
        "import torch\n",
        "print(\"PyTorch version: %s\" %torch.__version__)\n",
        "print(\"2021年4月PyTorch version最新版本 請參閱https://pytorch.org/\")"
      ],
      "execution_count": null,
      "outputs": [
        {
          "output_type": "stream",
          "text": [
            "pandas version: 1.1.5\n",
            "matplotlib version: 3.2.2\n",
            "numpy version: 1.19.5\n",
            "scikit-learn version: 0.22.2.post1\n",
            "tensorflow version: 2.4.1\n",
            "PyTorch version: 1.8.1+cu101\n",
            "2021年4月PyTorch version最新版本 請參閱https://pytorch.org/\n"
          ],
          "name": "stdout"
        }
      ]
    },
    {
      "cell_type": "code",
      "metadata": {
        "id": "NIfzKp1n0rIU"
      },
      "source": [
        "!pip list"
      ],
      "execution_count": null,
      "outputs": []
    }
  ]
}